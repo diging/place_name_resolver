{
 "cells": [
  {
   "cell_type": "markdown",
   "metadata": {},
   "source": [
    "   # Place Name Reader"
   ]
  },
  {
   "cell_type": "code",
   "execution_count": 8,
   "metadata": {},
   "outputs": [],
   "source": [
    "import os\n",
    "import csv"
   ]
  },
  {
   "cell_type": "code",
   "execution_count": 9,
   "metadata": {},
   "outputs": [],
   "source": [
    "class UnknownFileFormatError(Exception):\n",
    "    \"\"\"Exception raised when a file with an invalid file extention is passed.\n",
    "\n",
    "    Attributes:\n",
    "        message -- explanation of the error\n",
    "    \"\"\"\n",
    "\n",
    "    def __init__(self, message):\n",
    "        self.message = message"
   ]
  },
  {
   "cell_type": "code",
   "execution_count": 10,
   "metadata": {},
   "outputs": [],
   "source": [
    "class ReaderMisconfigurationError(Exception):\n",
    "    \"\"\"Exception raised when a file with an invalid file extention is passed.\n",
    "\n",
    "    Attributes:\n",
    "        message -- explanation of the error\n",
    "    \"\"\"\n",
    "\n",
    "    def __init__(self, message):\n",
    "        self.message = message"
   ]
  },
  {
   "cell_type": "code",
   "execution_count": 6,
   "metadata": {},
   "outputs": [],
   "source": [
    "class TextReader:\n",
    "    \"\"\"Reader class for simple text files. This class assumes that there is one\n",
    "    place name per line.\n",
    "\n",
    "    Methods\n",
    "    -------\n",
    "    get_accepted_file_format()\n",
    "        This class reads files for file extension \"txt\". Returns \"txt\"\n",
    "    read_lines()\n",
    "        Reads the lines (places) in the file. Returns a generator to iterate\n",
    "        over all lines. Each place will be returned in the form\n",
    "        { \"id\": None, \"place_name\": <place name> }.\n",
    "    \"\"\"\n",
    "\n",
    "    def __init__(self, filepath, kwargs=[]):\n",
    "        self.filepath = filepath\n",
    "\n",
    "    def get_accepted_file_extension():\n",
    "        return \"txt\"\n",
    "\n",
    "    def read_lines(self):\n",
    "        with open(self.filepath) as input_file:\n",
    "            for line in input_file:\n",
    "                yield { \"id\": None, \"place_name\": line.strip() }"
   ]
  },
  {
   "cell_type": "code",
   "execution_count": 7,
   "metadata": {},
   "outputs": [],
   "source": [
    "class PlaceReader:\n",
    "    \"\"\"Reader to read all places in a file. This class analyses the passed filepath\n",
    "    and checks if there is a reader class available (based on the file extension of\n",
    "    the passed file).\n",
    "\n",
    "    New readers can be added by adding them to the dictionary 'readers'\n",
    "    (maps file extensions to reader classes). To be compatible with this class, new\n",
    "    readers need to have two methods:\n",
    "    - get_accepted_file_extension(): returns the file extension the reader can handle\n",
    "    - read_lines(): returns an iterable over all places. Each item in the iterable needs\n",
    "        have the format { \"id\": <id or None>, \"place_name\": <place name> }\n",
    "\n",
    "    FIXME: pass dictionary into the place reader\n",
    "\n",
    "    Methods\n",
    "    -------\n",
    "    __init__(filepath)\n",
    "        Initialize an object of this class. Expects the filepath to the file\n",
    "        that should be read.\n",
    "    read_places()\n",
    "        Reads the places in the file. Returns a generator to iterate\n",
    "        over all places. Each place will be returned in the form\n",
    "        { \"id\": <id or None>, \"place_name\": <place name> }.\n",
    "    \"\"\"\n",
    "\n",
    "    readers = {\n",
    "        TextReader.get_accepted_file_extension(): TextReader,\n",
    "        CsvReader.get_accepted_file_extension(): CsvReader,\n",
    "    }\n",
    "\n",
    "    def __init__(self, filepath, **kwargs):\n",
    "        self.filepath = filepath\n",
    "        self.kwargs = kwargs\n",
    "        filename, extension = os.path.splitext(filepath)\n",
    "\n",
    "        self.format = extension.lower()[1:]\n",
    "        if not self.format:\n",
    "            raise UnknownFileFormatError(\"File extension {} is unknown.\".format(self.format))\n",
    "\n",
    "    def read_places(self):\n",
    "        if not self.format in self.readers:\n",
    "            raise UnknownFileFormatError(\"No reader for file format '{}' available.\".format(self.format))\n",
    "\n",
    "        reader_class = self.readers[self.format]\n",
    "\n",
    "        reader_instance = reader_class(self.filepath, self.kwargs)\n",
    "        for line in reader_instance.read_lines():\n",
    "            yield line"
   ]
  }
 ],
 "metadata": {
  "kernelspec": {
   "display_name": "Python 3",
   "language": "python",
   "name": "python3"
  },
  "language_info": {
   "codemirror_mode": {
    "name": "ipython",
    "version": 3
   },
   "file_extension": ".py",
   "mimetype": "text/x-python",
   "name": "python",
   "nbconvert_exporter": "python",
   "pygments_lexer": "ipython3",
   "version": "3.7.6"
  }
 },
 "nbformat": 4,
 "nbformat_minor": 4
}
